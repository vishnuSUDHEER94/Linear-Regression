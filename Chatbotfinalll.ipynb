{
  "nbformat": 4,
  "nbformat_minor": 0,
  "metadata": {
    "colab": {
      "name": "Chatbotfinalll.ipynb",
      "provenance": []
    },
    "kernelspec": {
      "name": "python3",
      "display_name": "Python 3"
    },
    "accelerator": "GPU"
  },
  "cells": [
    {
      "cell_type": "code",
      "metadata": {
        "id": "jonNuJJgT_hN",
        "colab_type": "code",
        "outputId": "3d93fb11-a1af-4f2b-cc93-be774aac42f1",
        "colab": {
          "base_uri": "https://localhost:8080/",
          "height": 542
        }
      },
      "source": [
        "from __future__ import print_function\n",
        "# importing the natural language tool kit\n",
        "import nltk\n",
        "# needed for tokenizing the dataset\n",
        "nltk.download('punkt')\n",
        "# importing the regular expression\n",
        "import re\n",
        "# importing the numpy library to work with and manipulate the data\n",
        "import numpy as np\n",
        "# import the pandas library to read our dataset\n",
        "import pandas as pd\n",
        "# importing the sys library which can perform introspection about the system \n",
        "import sys\n",
        "# importing the os library to interact with our operating system\n",
        "import os\n",
        "# importing the load_model and model\n",
        "from keras.models import load_model, Model\n",
        "# importing the Bidirectional, Dense, TimeDistributed, LSTM, Embedding and Input layers\n",
        "from keras.layers import Bidirectional, Dense, TimeDistributed, LSTM, Embedding, Input\n",
        "# setting the output length\n",
        "OUTPUT_LENGTH = 20\n",
        "# setting the output length\n",
        "INPUT_LENGTH = 20"
      ],
      "execution_count": 1,
      "outputs": [
        {
          "output_type": "stream",
          "text": [
            "[nltk_data] Downloading package punkt to /root/nltk_data...\n",
            "[nltk_data]   Package punkt is already up-to-date!\n"
          ],
          "name": "stdout"
        },
        {
          "output_type": "stream",
          "text": [
            "Using TensorFlow backend.\n",
            "/usr/local/lib/python3.6/dist-packages/tensorflow/python/framework/dtypes.py:516: FutureWarning: Passing (type, 1) or '1type' as a synonym of type is deprecated; in a future version of numpy, it will be understood as (type, (1,)) / '(1,)type'.\n",
            "  _np_qint8 = np.dtype([(\"qint8\", np.int8, 1)])\n",
            "/usr/local/lib/python3.6/dist-packages/tensorflow/python/framework/dtypes.py:517: FutureWarning: Passing (type, 1) or '1type' as a synonym of type is deprecated; in a future version of numpy, it will be understood as (type, (1,)) / '(1,)type'.\n",
            "  _np_quint8 = np.dtype([(\"quint8\", np.uint8, 1)])\n",
            "/usr/local/lib/python3.6/dist-packages/tensorflow/python/framework/dtypes.py:518: FutureWarning: Passing (type, 1) or '1type' as a synonym of type is deprecated; in a future version of numpy, it will be understood as (type, (1,)) / '(1,)type'.\n",
            "  _np_qint16 = np.dtype([(\"qint16\", np.int16, 1)])\n",
            "/usr/local/lib/python3.6/dist-packages/tensorflow/python/framework/dtypes.py:519: FutureWarning: Passing (type, 1) or '1type' as a synonym of type is deprecated; in a future version of numpy, it will be understood as (type, (1,)) / '(1,)type'.\n",
            "  _np_quint16 = np.dtype([(\"quint16\", np.uint16, 1)])\n",
            "/usr/local/lib/python3.6/dist-packages/tensorflow/python/framework/dtypes.py:520: FutureWarning: Passing (type, 1) or '1type' as a synonym of type is deprecated; in a future version of numpy, it will be understood as (type, (1,)) / '(1,)type'.\n",
            "  _np_qint32 = np.dtype([(\"qint32\", np.int32, 1)])\n",
            "/usr/local/lib/python3.6/dist-packages/tensorflow/python/framework/dtypes.py:525: FutureWarning: Passing (type, 1) or '1type' as a synonym of type is deprecated; in a future version of numpy, it will be understood as (type, (1,)) / '(1,)type'.\n",
            "  np_resource = np.dtype([(\"resource\", np.ubyte, 1)])\n",
            "/usr/local/lib/python3.6/dist-packages/tensorboard/compat/tensorflow_stub/dtypes.py:541: FutureWarning: Passing (type, 1) or '1type' as a synonym of type is deprecated; in a future version of numpy, it will be understood as (type, (1,)) / '(1,)type'.\n",
            "  _np_qint8 = np.dtype([(\"qint8\", np.int8, 1)])\n",
            "/usr/local/lib/python3.6/dist-packages/tensorboard/compat/tensorflow_stub/dtypes.py:542: FutureWarning: Passing (type, 1) or '1type' as a synonym of type is deprecated; in a future version of numpy, it will be understood as (type, (1,)) / '(1,)type'.\n",
            "  _np_quint8 = np.dtype([(\"quint8\", np.uint8, 1)])\n",
            "/usr/local/lib/python3.6/dist-packages/tensorboard/compat/tensorflow_stub/dtypes.py:543: FutureWarning: Passing (type, 1) or '1type' as a synonym of type is deprecated; in a future version of numpy, it will be understood as (type, (1,)) / '(1,)type'.\n",
            "  _np_qint16 = np.dtype([(\"qint16\", np.int16, 1)])\n",
            "/usr/local/lib/python3.6/dist-packages/tensorboard/compat/tensorflow_stub/dtypes.py:544: FutureWarning: Passing (type, 1) or '1type' as a synonym of type is deprecated; in a future version of numpy, it will be understood as (type, (1,)) / '(1,)type'.\n",
            "  _np_quint16 = np.dtype([(\"quint16\", np.uint16, 1)])\n",
            "/usr/local/lib/python3.6/dist-packages/tensorboard/compat/tensorflow_stub/dtypes.py:545: FutureWarning: Passing (type, 1) or '1type' as a synonym of type is deprecated; in a future version of numpy, it will be understood as (type, (1,)) / '(1,)type'.\n",
            "  _np_qint32 = np.dtype([(\"qint32\", np.int32, 1)])\n",
            "/usr/local/lib/python3.6/dist-packages/tensorboard/compat/tensorflow_stub/dtypes.py:550: FutureWarning: Passing (type, 1) or '1type' as a synonym of type is deprecated; in a future version of numpy, it will be understood as (type, (1,)) / '(1,)type'.\n",
            "  np_resource = np.dtype([(\"resource\", np.ubyte, 1)])\n"
          ],
          "name": "stderr"
        },
        {
          "output_type": "display_data",
          "data": {
            "text/html": [
              "<p style=\"color: red;\">\n",
              "The default version of TensorFlow in Colab will switch to TensorFlow 2.x on the 27th of March, 2020.<br>\n",
              "We recommend you <a href=\"https://www.tensorflow.org/guide/migrate\" target=\"_blank\">upgrade</a> now\n",
              "or ensure your notebook will continue to use TensorFlow 1.x via the <code>%tensorflow_version 1.x</code> magic:\n",
              "<a href=\"https://colab.research.google.com/notebooks/tensorflow_version.ipynb\" target=\"_blank\">more info</a>.</p>\n"
            ],
            "text/plain": [
              "<IPython.core.display.HTML object>"
            ]
          },
          "metadata": {
            "tags": []
          }
        }
      ]
    },
    {
      "cell_type": "code",
      "metadata": {
        "id": "iXPD1zZgVGp6",
        "colab_type": "code",
        "outputId": "75ec894b-c8f0-44c6-b33e-1f55f51a2124",
        "colab": {
          "base_uri": "https://localhost:8080/",
          "height": 85
        }
      },
      "source": [
        "# it is for data loading\n",
        "# Reading two .txt files \n",
        "raw_movie_lines = open('movie_lines.txt', encoding='utf-8', errors='ignore').read().split('\\n') # The path to .txt file\n",
        "raw_movie_conv_lines = open('movie_conversations.txt', encoding='utf-8', errors='ignore').read().split('\\n')\n",
        "# it is for mapping each line id with its corresponding text by creating a dictionary\n",
        "ansid = {}\n",
        "# reading lines from raw_movoe_lines dataset\n",
        "for line in raw_movie_lines:\n",
        "    # splitting the lines and assigning to _line\n",
        "    _line = line.split(' +++$+++ ')\n",
        "    # if the len of line is equal to 5 then the below condition executes\n",
        "    if len(_line) == 5:\n",
        "        ansid[_line[0]] = _line[4]\n",
        "# Creating a list for all the conversations lines id's \n",
        "convs = []\n",
        "# reading the lines from raw_movie_conv_lines dataset\n",
        "for line in raw_movie_conv_lines[:-1]:\n",
        "    # splitting the lines and assigning to _line\n",
        "    _line = line.split(' +++$+++ ')[-1][1:-1].replace(\"'\",\"\").replace(\" \",\"\")\n",
        "    # appending those splitted lines to conversations\n",
        "    convs.append(_line.split(','))\n",
        "# few set of id's and conversations \n",
        "for k in convs[300]:\n",
        "    # print the value of k\n",
        "    print (k, ansid[k])"
      ],
      "execution_count": 2,
      "outputs": [
        {
          "output_type": "stream",
          "text": [
            "L3490 That's what he did to me.  He put cigarettes out on me.\n",
            "L3491 Your father put cigarettes out on you?\n",
            "L3492 Out on my back when I was a small boy.\n",
            "L3493 Can I see your back?\n"
          ],
          "name": "stdout"
        }
      ]
    },
    {
      "cell_type": "code",
      "metadata": {
        "id": "bC-1LsCvXM7i",
        "colab_type": "code",
        "outputId": "444b593d-41aa-4785-8575-37147833d248",
        "colab": {
          "base_uri": "https://localhost:8080/",
          "height": 51
        }
      },
      "source": [
        "# We need to perform the sorting operations on sentences to questions and on answers \n",
        "# For questions\n",
        "ques = []\n",
        "# For Answers\n",
        "ans = []\n",
        "# for conversation in conversations\n",
        "for conv in convs:\n",
        "    for i in range(len(conv)-1):\n",
        "        # appending the conversations ids to the questions\n",
        "        ques.append(ansid[conv[i]])\n",
        "        # appending the conversations ids to the answers\n",
        "        ans.append(ansid[conv[i+1]])\n",
        "# We need to Compare both the lengths of questions and answers\n",
        "# printing the length of the questions\n",
        "print(len(ques))\n",
        "# printing the length of the answers\n",
        "print(len(ans))"
      ],
      "execution_count": 3,
      "outputs": [
        {
          "output_type": "stream",
          "text": [
            "221616\n",
            "221616\n"
          ],
          "name": "stdout"
        }
      ]
    },
    {
      "cell_type": "code",
      "metadata": {
        "id": "IKB1GEgAYNog",
        "colab_type": "code",
        "outputId": "8477de1b-35a6-4595-f807-6934b6436048",
        "colab": {
          "base_uri": "https://localhost:8080/",
          "height": 85
        }
      },
      "source": [
        "# A method for cleaning the text \n",
        "def clean_text(text):\n",
        "    # it will be cleaning the text by removing all the unnedded characters and changing the words and characters format\n",
        "    # converting the text to the lower case letters\n",
        "    text = text.lower()\n",
        "    text = re.sub(r\"'til\", \"until\", text)\n",
        "    text = re.sub(r\"'bout\", \"about\", text)\n",
        "    text = re.sub(r\"n'\", \"ng\", text)\n",
        "    text = re.sub(r\"n't\", \" not\", text)\n",
        "    text = re.sub(r\"can't\", \"cannot\", text)\n",
        "    text = re.sub(r\"won't\", \"will not\", text)\n",
        "    text = re.sub(r\"\\'re\", \" are\", text)\n",
        "    text = re.sub(r\"\\'d\", \" would\", text)\n",
        "    text = re.sub(r\"\\'re\", \" are\", text)\n",
        "    text = re.sub(r\"\\'ve\", \" have\", text)\n",
        "    text = re.sub(r\"\\'ll\", \" will\", text)\n",
        "    text = re.sub(r\"how's\", \"how is\", text)\n",
        "    text = re.sub(r\"where's\", \"where is\", text)\n",
        "    text = re.sub(r\"what's\", \"that is\", text)\n",
        "    text = re.sub(r\"that's\", \"that is\", text)\n",
        "    text = re.sub(r\"it's\", \"it is\", text)\n",
        "    text = re.sub(r\"she's\", \"she is\", text)\n",
        "    text = re.sub(r\"he's\", \"he is\", text)\n",
        "    text = re.sub(r\"i'm\", \"i am\", text)\n",
        "    # splitting the text and joining the text to the text\n",
        "    text = \" \".join(text.split())\n",
        "    # returning the text\n",
        "    return text\n",
        "# Cleaning the data which contains both questions and answers\n",
        "# For cleaning the questions\n",
        "clean_questions = []\n",
        "for question in ques:\n",
        "    # cleaning the questions and appending them to the clean_questions\n",
        "    clean_questions.append(clean_text(question))\n",
        "# For Cleaning the answers\n",
        "clean_answers = []    \n",
        "for answer in ans:\n",
        "    # cleaning the answers and appending them to the clean_answers\n",
        "    clean_answers.append(clean_text(answer))\n",
        "# After performing the clean opeartion on both questions and answers we need to find the length of the sentence\n",
        "# We are finding the length of sentences and we are not using the natural language tool kit during this process\n",
        "senlen = []\n",
        "for question in clean_questions:\n",
        "    # splitting and finding the length of the questions and then finally append it to the senlen\n",
        "    senlen.append(len(question.split()))\n",
        "for answer in clean_answers:\n",
        "    # splitting and finding the length of the answers and then finally append it to the senlen\n",
        "    senlen.append(len(answer.split()))\n",
        "# Need to create a dataframe which can be helpful in inspecting the values\n",
        "senlen = pd.DataFrame(senlen, columns=['counts'])\n",
        "print(np.percentile(senlen, 80))\n",
        "print(np.percentile(senlen, 85))\n",
        "print(np.percentile(senlen, 90))\n",
        "print(np.percentile(senlen, 95))"
      ],
      "execution_count": 4,
      "outputs": [
        {
          "output_type": "stream",
          "text": [
            "16.0\n",
            "19.0\n",
            "24.0\n",
            "32.0\n"
          ],
          "name": "stdout"
        }
      ]
    },
    {
      "cell_type": "code",
      "metadata": {
        "id": "j4V7epcpazbF",
        "colab_type": "code",
        "outputId": "5f286de9-89f9-4a42-cf1b-4048dcdabd11",
        "colab": {
          "base_uri": "https://localhost:8080/",
          "height": 51
        }
      },
      "source": [
        "# We need to remove both question and answers that are shorter than 1 word and larger than 20 words\n",
        "# so minimum length is 2\n",
        "minimum_length = 2\n",
        "# so maximum length is 20\n",
        "maximum_length = 20\n",
        "# Then filter the question and answer that are too short (or) long\n",
        "short_ques = []\n",
        "short_ans = []\n",
        "# for both index i and question in clean_questions\n",
        "for i, question in enumerate(clean_questions):\n",
        "    # checking the condition for length of the question is greater or equal to minimum_length and less than or equal to maximum_length \n",
        "    if len(question.split()) >= minimum_length and len(question.split()) <= maximum_length:\n",
        "        # if the condition is true\n",
        "        # then append the question to short questions\n",
        "        short_ques.append(question)\n",
        "        # if the condition is true\n",
        "        # then append the answers to the short answers\n",
        "        short_ans.append(clean_answers[i])\n",
        "short_qu = []\n",
        "short_an = []\n",
        "# for both index i and answer in short_answers\n",
        "for i, answer in enumerate(short_ans):\n",
        "    # checking the conditon for the length of the answer is greater or equal to minimum_length and less than or equal to maximum_length\n",
        "    if len(answer.split()) >= minimum_length and len(answer.split()) <= maximum_length:\n",
        "        # if the condition is true\n",
        "        # then append the answer to short answers\n",
        "        short_an.append(answer)\n",
        "        # if the condition is true\n",
        "        # then append the question to short questions\n",
        "        short_qu.append(short_ques[i])\n",
        "# printing the length of the short question               \n",
        "print(len(short_qu))\n",
        "# printing the length of the short answer\n",
        "print(len(short_an))"
      ],
      "execution_count": 5,
      "outputs": [
        {
          "output_type": "stream",
          "text": [
            "139603\n",
            "139603\n"
          ],
          "name": "stdout"
        }
      ]
    },
    {
      "cell_type": "code",
      "metadata": {
        "id": "rwlXJ3i3d0YG",
        "colab_type": "code",
        "outputId": "a3b75444-6470-4382-9498-1c87e8e95261",
        "colab": {
          "base_uri": "https://localhost:8080/",
          "height": 170
        }
      },
      "source": [
        "# np.random.randint is used for returning the random integers \n",
        "r = np.random.randint(1,len(short_qu))\n",
        "for i in range(r, r+3):\n",
        "    # printing the short questions\n",
        "    print(short_qu[i])\n",
        "    # printing the short answers\n",
        "    print(short_an[i])\n",
        "    print()"
      ],
      "execution_count": 6,
      "outputs": [
        {
          "output_type": "stream",
          "text": [
            "jillie, you want a cheese grilled sandwich?\n",
            "it is called a grilled cheese sandwich, you dub.\n",
            "\n",
            "his office. you mean my old office.\n",
            "well, i guess -- that is what he said.\n",
            "\n",
            "well, i guess -- that is what he said.\n",
            "he got his deer yet?\n",
            "\n"
          ],
          "name": "stdout"
        }
      ]
    },
    {
      "cell_type": "code",
      "metadata": {
        "id": "SadE5y0Cei1R",
        "colab_type": "code",
        "outputId": "bd767659-e4f0-44b8-a922-f779b66ff708",
        "colab": {
          "base_uri": "https://localhost:8080/",
          "height": 51
        }
      },
      "source": [
        "# Preprocessing for word based model \n",
        "#choosing the number of samples for training\n",
        "num_samples = 30000 \n",
        "# Number of samples for short questions \n",
        "short_qu = short_qu[:num_samples]\n",
        "# Number of samples to short answers\n",
        "short_an = short_an[:num_samples]\n",
        "# Applying the tokenizing on questions\n",
        "questions_tokenize = [nltk.word_tokenize(sent) for sent in short_qu]\n",
        "# Applying the tokenizing on answers\n",
        "answers_tokenize = [nltk.word_tokenize(sent) for sent in short_an]\n",
        "\n",
        "# splitting the training and validation\n",
        "# assigning the length of the tokenized questions to the value\n",
        "size_of_the_data = len(questions_tokenize)\n",
        "# We are using 80 percent of the data for the training and assigning it to the input_train_data\n",
        "input_train_data  = questions_tokenize[:round(size_of_the_data*(80/100))]\n",
        "# We are reverseing the input sequence for a good performance\n",
        "input_train_data  = [tr_input[::-1] for tr_input in input_train_data]\n",
        "# assigning value to the output trained data \n",
        "output_train_data = answers_tokenize[:round(size_of_the_data*(80/100))]\n",
        "# remaining 20% of the data is used for validations\n",
        "# assigning the value to the input_validating_data\n",
        "input_validating_data = questions_tokenize[round(size_of_the_data*(80/100)):]\n",
        "# We are reverseing the input sequence for a good performance\n",
        "input_validating_data  = [val_input[::-1] for val_input in input_validating_data]\n",
        "# assigning the value to the output_validating_data\n",
        "output_validating_data = answers_tokenize[round(size_of_the_data*(80/100)):]\n",
        "# printing the size of the training data\n",
        "print('The size of the training data', len(input_train_data))\n",
        "# printing the size of the validation data\n",
        "print('The size of the validation data', len(input_validating_data))"
      ],
      "execution_count": 7,
      "outputs": [
        {
          "output_type": "stream",
          "text": [
            "The size of the training data 24000\n",
            "The size of the validation data 6000\n"
          ],
          "name": "stdout"
        }
      ]
    },
    {
      "cell_type": "code",
      "metadata": {
        "id": "y_Q3Meq_hPbA",
        "colab_type": "code",
        "outputId": "95a1494d-d0d5-4378-e37a-88b713adbf9d",
        "colab": {
          "base_uri": "https://localhost:8080/",
          "height": 51
        }
      },
      "source": [
        "# For vocabulary frequency we are creating a dictionary\n",
        "vocabulary = {}\n",
        "# for questions in questions_tokenize\n",
        "for question in questions_tokenize:\n",
        "    # for word in the question\n",
        "    for word in question:\n",
        "        # checking the condition if the word is not present in the vocabulary then assign 1\n",
        "        if word not in vocabulary:\n",
        "            vocabulary[word] = 1\n",
        "        # if the word is present in the vocabulary then else part should get assigned\n",
        "        else:\n",
        "            vocabulary[word] += 1\n",
        "# for answer in answers_tokenize\n",
        "for answer in answers_tokenize:\n",
        "    # for word in answer\n",
        "    for word in answer:\n",
        "         # checking the condition if the word is not present in the vocabulary then assign 1\n",
        "        if word not in vocabulary:\n",
        "            vocabulary[word] = 1\n",
        "        # if the word is present in the vocabulary then else part should get assigned\n",
        "        else:\n",
        "            vocabulary[word] += 1\n",
        "# We have to remove the rare words from the vocabulary and replace lesser than 5% of words with <UNK>\n",
        "# assign thresholdvalue to 15\n",
        "thresholdvalue = 15\n",
        "# assign count to 0\n",
        "count = 0\n",
        "for k,v in vocabulary.items():\n",
        "    # checking the condition if v is greater or equal to the thresholdvalue, then count gets increment\n",
        "    if v >= thresholdvalue:\n",
        "        count += 1\n",
        "# printing the total size of the vocabulary       \n",
        "print(\"Size of total vocabulary:\", len(vocabulary))\n",
        "# printing thr size of vocabulary in use\n",
        "print(\"Size of vocabulary we will use:\", count)"
      ],
      "execution_count": 8,
      "outputs": [
        {
          "output_type": "stream",
          "text": [
            "Size of total vocabulary: 16616\n",
            "Size of vocabulary we will use: 1959\n"
          ],
          "name": "stdout"
        }
      ]
    },
    {
      "cell_type": "code",
      "metadata": {
        "id": "jFDWFPZEjZob",
        "colab_type": "code",
        "outputId": "7a486e1a-455d-47e7-e7d4-4b2f3efe2565",
        "colab": {
          "base_uri": "https://localhost:8080/",
          "height": 34
        }
      },
      "source": [
        "\n",
        "# assign word_start to 1\n",
        "WORD_START = 1\n",
        "# assign word_padding to 0\n",
        "WORD_PADDING = 0\n",
        "# assign numberofword to 2\n",
        "numberoftheword  = 2\n",
        "# for encoded_data\n",
        "encoded_data = {}\n",
        "# for decoded_data\n",
        "decoded_data = {1: 'START'}\n",
        "# for word and count in vocabulary.items()\n",
        "for word, count in vocabulary.items():\n",
        "    # checking the condition if count is greater or equal to the thresholdvalue\n",
        "    if count >= thresholdvalue: \n",
        "        encoded_data[word] = numberoftheword \n",
        "        decoded_data[numberoftheword ] = word\n",
        "        numberoftheword += 1\n",
        "# printing the total number of vocabulary used\n",
        "print(\"Total number of vocabulary used:\", numberoftheword)"
      ],
      "execution_count": 9,
      "outputs": [
        {
          "output_type": "stream",
          "text": [
            "Total number of vocabulary used: 1961\n"
          ],
          "name": "stdout"
        }
      ]
    },
    {
      "cell_type": "code",
      "metadata": {
        "id": "faJx7X47kYch",
        "colab_type": "code",
        "outputId": "7d7561c1-51cf-43c4-bd85-202ed65b16c9",
        "colab": {
          "base_uri": "https://localhost:8080/",
          "height": 34
        }
      },
      "source": [
        "# Dictionares are created which helps in providing the different integer for each and every word\n",
        "# including the unknown tokens for words and not for dictionary\n",
        "decoded_data[len(encoded_data)+2] = '<UNK>'\n",
        "encoded_data['<UNK>'] = len(encoded_data)+2\n",
        "# assigning the values to the dictionary_size\n",
        "dictionary_size = numberoftheword+1\n",
        "dictionary_size"
      ],
      "execution_count": 10,
      "outputs": [
        {
          "output_type": "execute_result",
          "data": {
            "text/plain": [
              "1962"
            ]
          },
          "metadata": {
            "tags": []
          },
          "execution_count": 10
        }
      ]
    },
    {
      "cell_type": "code",
      "metadata": {
        "id": "kzE2oxFimMxW",
        "colab_type": "code",
        "outputId": "ead02e6a-63c5-45d9-fe06-5d39bb60f416",
        "colab": {
          "base_uri": "https://localhost:8080/",
          "height": 85
        }
      },
      "source": [
        "# Vectorizing the dataset\n",
        "# method for data transformation with inputs encoded_data and sizeofthevector\n",
        "# size of the vector is 20\n",
        "def datatransformation(encoded_data, data, sizeofthevector=20):\n",
        "    datatransformed = np.zeros(shape=(len(data), sizeofthevector))\n",
        "    # for i in the range of the data length\n",
        "    for i in range(len(data)):\n",
        "        # for j in the range of minimum length of the data\n",
        "        for j in range(min(len(data[i]), sizeofthevector)):\n",
        "            try:\n",
        "                datatransformed[i][j] = encoded_data[data[i][j]]\n",
        "            except:\n",
        "                datatransformed[i][j] = encoded_data['<UNK>']\n",
        "    # returning the datatransformed\n",
        "    return datatransformed\n",
        "\n",
        "# encoding the data training set\n",
        "# assigning the input trained data\n",
        "inputtrainingencoded = datatransformation(encoded_data, input_train_data, sizeofthevector=INPUT_LENGTH)\n",
        "# assigning the output trained data\n",
        "outputtrainingencoded = datatransformation(encoded_data, output_train_data, sizeofthevector=OUTPUT_LENGTH)\n",
        "# printing the input trained data\n",
        "print('The input training encoded value is:', inputtrainingencoded.shape)\n",
        "# printing the output trained data\n",
        "print('The output training encoded value is', outputtrainingencoded.shape)\n",
        "\n",
        "#encoding the data validation set\n",
        "# assigning the input validation data\n",
        "inputvalidationencoded = datatransformation(encoded_data, input_validating_data, sizeofthevector=INPUT_LENGTH)\n",
        "# assigning the output validation data\n",
        "outputvalidationencoded = datatransformation(encoded_data, output_validating_data, sizeofthevector=OUTPUT_LENGTH)\n",
        "# printing the input validation data\n",
        "print('The input validation encoded value is:', inputvalidationencoded.shape)\n",
        "# printing the output validation data\n",
        "print('The output validation encoded value is :', outputvalidationencoded.shape)"
      ],
      "execution_count": 11,
      "outputs": [
        {
          "output_type": "stream",
          "text": [
            "The input training encoded value is: (24000, 20)\n",
            "The output training encoded value is (24000, 20)\n",
            "The input validation encoded value is: (6000, 20)\n",
            "The output validation encoded value is : (6000, 20)\n"
          ],
          "name": "stdout"
        }
      ]
    },
    {
      "cell_type": "code",
      "metadata": {
        "id": "CEjNWnmuofec",
        "colab_type": "code",
        "outputId": "12291eed-f80f-4eda-8b20-4f40be3337bb",
        "colab": {
          "base_uri": "https://localhost:8080/",
          "height": 357
        }
      },
      "source": [
        "# installing the tensorflow version of 1.14.0\n",
        "!pip install tensorflow==1.14.0\n",
        "# importing the tensorflow library\n",
        "import tensorflow as tf\n",
        "tf.keras.backend.clear_session()"
      ],
      "execution_count": 12,
      "outputs": [
        {
          "output_type": "stream",
          "text": [
            "Requirement already satisfied: tensorflow==1.14.0 in /usr/local/lib/python3.6/dist-packages (1.14.0)\n",
            "Requirement already satisfied: wheel>=0.26 in /usr/local/lib/python3.6/dist-packages (from tensorflow==1.14.0) (0.34.2)\n",
            "Requirement already satisfied: grpcio>=1.8.6 in /usr/local/lib/python3.6/dist-packages (from tensorflow==1.14.0) (1.27.2)\n",
            "Requirement already satisfied: google-pasta>=0.1.6 in /usr/local/lib/python3.6/dist-packages (from tensorflow==1.14.0) (0.2.0)\n",
            "Requirement already satisfied: numpy<2.0,>=1.14.5 in /usr/local/lib/python3.6/dist-packages (from tensorflow==1.14.0) (1.18.2)\n",
            "Requirement already satisfied: tensorboard<1.15.0,>=1.14.0 in /usr/local/lib/python3.6/dist-packages (from tensorflow==1.14.0) (1.14.0)\n",
            "Requirement already satisfied: astor>=0.6.0 in /usr/local/lib/python3.6/dist-packages (from tensorflow==1.14.0) (0.8.1)\n",
            "Requirement already satisfied: gast>=0.2.0 in /usr/local/lib/python3.6/dist-packages (from tensorflow==1.14.0) (0.3.3)\n",
            "Requirement already satisfied: six>=1.10.0 in /usr/local/lib/python3.6/dist-packages (from tensorflow==1.14.0) (1.12.0)\n",
            "Requirement already satisfied: protobuf>=3.6.1 in /usr/local/lib/python3.6/dist-packages (from tensorflow==1.14.0) (3.10.0)\n",
            "Requirement already satisfied: keras-preprocessing>=1.0.5 in /usr/local/lib/python3.6/dist-packages (from tensorflow==1.14.0) (1.1.0)\n",
            "Requirement already satisfied: wrapt>=1.11.1 in /usr/local/lib/python3.6/dist-packages (from tensorflow==1.14.0) (1.12.1)\n",
            "Requirement already satisfied: absl-py>=0.7.0 in /usr/local/lib/python3.6/dist-packages (from tensorflow==1.14.0) (0.9.0)\n",
            "Requirement already satisfied: keras-applications>=1.0.6 in /usr/local/lib/python3.6/dist-packages (from tensorflow==1.14.0) (1.0.8)\n",
            "Requirement already satisfied: termcolor>=1.1.0 in /usr/local/lib/python3.6/dist-packages (from tensorflow==1.14.0) (1.1.0)\n",
            "Requirement already satisfied: tensorflow-estimator<1.15.0rc0,>=1.14.0rc0 in /usr/local/lib/python3.6/dist-packages (from tensorflow==1.14.0) (1.14.0)\n",
            "Requirement already satisfied: markdown>=2.6.8 in /usr/local/lib/python3.6/dist-packages (from tensorboard<1.15.0,>=1.14.0->tensorflow==1.14.0) (3.2.1)\n",
            "Requirement already satisfied: setuptools>=41.0.0 in /usr/local/lib/python3.6/dist-packages (from tensorboard<1.15.0,>=1.14.0->tensorflow==1.14.0) (46.0.0)\n",
            "Requirement already satisfied: werkzeug>=0.11.15 in /usr/local/lib/python3.6/dist-packages (from tensorboard<1.15.0,>=1.14.0->tensorflow==1.14.0) (1.0.0)\n",
            "Requirement already satisfied: h5py in /usr/local/lib/python3.6/dist-packages (from keras-applications>=1.0.6->tensorflow==1.14.0) (2.10.0)\n"
          ],
          "name": "stdout"
        }
      ]
    },
    {
      "cell_type": "code",
      "metadata": {
        "id": "l8V5FC1Mol4q",
        "colab_type": "code",
        "outputId": "1fa8730c-aaab-4393-8317-d7089273f142",
        "colab": {
          "base_uri": "https://localhost:8080/",
          "height": 309
        }
      },
      "source": [
        "# Building the model\n",
        "# sequence-to-sequence operation in keras\n",
        "# assigning the input_length to 20\n",
        "INPUT_LENGTH = 20\n",
        "# assigning the output_length to 20\n",
        "OUTPUT_LENGTH = 20\n",
        "# assigning the value to encodedinput\n",
        "encodedinput = Input(shape=(INPUT_LENGTH,))\n",
        "# assigning the value to decodedinput\n",
        "decodedinput = Input(shape=(OUTPUT_LENGTH,))\n",
        "\n",
        "# import SimpleRNN from keras.layers\n",
        "from keras.layers import SimpleRNN\n",
        "# assigning the Embedding layer and its parameters to the encoding\n",
        "encoding = Embedding(dictionary_size, 128, input_length=INPUT_LENGTH, mask_zero=True)(encodedinput)\n",
        "# assigning the LSTM layer and its parameters to the encoding\n",
        "encoding = LSTM(512, return_sequences=True, unroll=True)(encoding)\n",
        "# assigning the value to the lastencoding\n",
        "lastencoding = encoding[:,-1,:]\n",
        "# printing the encoding value\n",
        "print('encoding', encoding)\n",
        "# printing the lastencoding value\n",
        "print('lastencoding', lastencoding)\n",
        "# assigning the Embedding layer and its parameters to the decoding\n",
        "decoding = Embedding(dictionary_size, 128, input_length=OUTPUT_LENGTH, mask_zero=True)(decodedinput)\n",
        "# assigning the LSTM layer and its parameters to the decoding\n",
        "decoding = LSTM(512, return_sequences=True, unroll=True)(decoding, initial_state=[lastencoding, lastencoding])\n",
        "# printing the decoding value\n",
        "print('decoding', decoding)\n",
        "\n",
        "# import dot, concatenate and activation from keras.layers\n",
        "from keras.layers import dot, concatenate, Activation\n",
        "# assigning the value to the layerss\n",
        "layerss = dot([decoding, encoding], axes=[2, 2])\n",
        "layerss = Activation('softmax', name='layerss')(layerss)\n",
        "# printing the layerss value\n",
        "print('layerss', layerss)\n",
        "layersss = dot([layerss, encoding], axes=[2,1])\n",
        "# printing the layerss value\n",
        "print('layerss', layerss)\n",
        "concatenate_context = concatenate([layerss, decoding])\n",
        "# printing the convatenate_context value\n",
        "print('concatenate_context', concatenate_context)\n",
        "# assigning the Dense layer and its parameters to the olayer with tanh activation function\n",
        "olayer = TimeDistributed(Dense(512, activation=\"tanh\"))(concatenate_context)\n",
        "# assigning the Dense layer and its parameters to the olayer with softmax activation function\n",
        "olayer = TimeDistributed(Dense(dictionary_size, activation=\"softmax\"))(olayer)\n",
        "# printing the olayer value\n",
        "print('olayer', olayer)"
      ],
      "execution_count": 13,
      "outputs": [
        {
          "output_type": "stream",
          "text": [
            "WARNING:tensorflow:From /usr/local/lib/python3.6/dist-packages/keras/backend/tensorflow_backend.py:66: The name tf.get_default_graph is deprecated. Please use tf.compat.v1.get_default_graph instead.\n",
            "\n",
            "WARNING:tensorflow:From /usr/local/lib/python3.6/dist-packages/keras/backend/tensorflow_backend.py:541: The name tf.placeholder is deprecated. Please use tf.compat.v1.placeholder instead.\n",
            "\n",
            "WARNING:tensorflow:From /usr/local/lib/python3.6/dist-packages/keras/backend/tensorflow_backend.py:4432: The name tf.random_uniform is deprecated. Please use tf.random.uniform instead.\n",
            "\n",
            "WARNING:tensorflow:From /usr/local/lib/python3.6/dist-packages/keras/backend/tensorflow_backend.py:3156: add_dispatch_support.<locals>.wrapper (from tensorflow.python.ops.array_ops) is deprecated and will be removed in a future version.\n",
            "Instructions for updating:\n",
            "Use tf.where in 2.0, which has the same broadcast rule as np.where\n",
            "encoding Tensor(\"lstm_1/transpose_2:0\", shape=(?, 20, 512), dtype=float32)\n",
            "lastencoding Tensor(\"strided_slice:0\", shape=(?, 512), dtype=float32)\n",
            "decoding Tensor(\"lstm_2/transpose_2:0\", shape=(?, 20, 512), dtype=float32)\n",
            "layerss Tensor(\"layerss/truediv:0\", shape=(?, 20, 20), dtype=float32)\n",
            "layerss Tensor(\"layerss/truediv:0\", shape=(?, 20, 20), dtype=float32)\n",
            "concatenate_context Tensor(\"concatenate_1/concat:0\", shape=(?, 20, 532), dtype=float32)\n",
            "olayer Tensor(\"time_distributed_2/Reshape_1:0\", shape=(?, 20, 1962), dtype=float32)\n"
          ],
          "name": "stdout"
        }
      ]
    },
    {
      "cell_type": "code",
      "metadata": {
        "id": "sDuRrGeLrpaO",
        "colab_type": "code",
        "outputId": "034d8b38-5bb5-42ac-b00b-4bc33fedb2ff",
        "colab": {
          "base_uri": "https://localhost:8080/",
          "height": 629
        }
      },
      "source": [
        "# assigning the Model and its parameters to the mtrain model variable\n",
        "mtrain = Model(inputs=[encodedinput, decodedinput], outputs=[olayer])\n",
        "# compile the mtrain model with adam optimizer and binary_crossentropy loss\n",
        "mtrain.compile(optimizer='adam', loss='binary_crossentropy', metrics=['acc'])\n",
        "# summary of the mtrain model\n",
        "mtrain.summary()"
      ],
      "execution_count": 14,
      "outputs": [
        {
          "output_type": "stream",
          "text": [
            "WARNING:tensorflow:From /usr/local/lib/python3.6/dist-packages/keras/optimizers.py:793: The name tf.train.Optimizer is deprecated. Please use tf.compat.v1.train.Optimizer instead.\n",
            "\n",
            "WARNING:tensorflow:From /usr/local/lib/python3.6/dist-packages/keras/backend/tensorflow_backend.py:3657: The name tf.log is deprecated. Please use tf.math.log instead.\n",
            "\n",
            "Model: \"model_1\"\n",
            "__________________________________________________________________________________________________\n",
            "Layer (type)                    Output Shape         Param #     Connected to                     \n",
            "==================================================================================================\n",
            "input_2 (InputLayer)            (None, 20)           0                                            \n",
            "__________________________________________________________________________________________________\n",
            "input_1 (InputLayer)            (None, 20)           0                                            \n",
            "__________________________________________________________________________________________________\n",
            "embedding_2 (Embedding)         (None, 20, 128)      251136      input_2[0][0]                    \n",
            "__________________________________________________________________________________________________\n",
            "embedding_1 (Embedding)         (None, 20, 128)      251136      input_1[0][0]                    \n",
            "__________________________________________________________________________________________________\n",
            "lstm_2 (LSTM)                   (None, 20, 512)      1312768     embedding_2[0][0]                \n",
            "__________________________________________________________________________________________________\n",
            "lstm_1 (LSTM)                   (None, 20, 512)      1312768     embedding_1[0][0]                \n",
            "__________________________________________________________________________________________________\n",
            "dot_1 (Dot)                     (None, 20, 20)       0           lstm_2[0][0]                     \n",
            "                                                                 lstm_1[0][0]                     \n",
            "__________________________________________________________________________________________________\n",
            "layerss (Activation)            (None, 20, 20)       0           dot_1[0][0]                      \n",
            "__________________________________________________________________________________________________\n",
            "concatenate_1 (Concatenate)     (None, 20, 532)      0           layerss[0][0]                    \n",
            "                                                                 lstm_2[0][0]                     \n",
            "__________________________________________________________________________________________________\n",
            "time_distributed_1 (TimeDistrib (None, 20, 512)      272896      concatenate_1[0][0]              \n",
            "__________________________________________________________________________________________________\n",
            "time_distributed_2 (TimeDistrib (None, 20, 1962)     1006506     time_distributed_1[0][0]         \n",
            "==================================================================================================\n",
            "Total params: 4,407,210\n",
            "Trainable params: 4,407,210\n",
            "Non-trainable params: 0\n",
            "__________________________________________________________________________________________________\n"
          ],
          "name": "stdout"
        }
      ]
    },
    {
      "cell_type": "code",
      "metadata": {
        "id": "HU1kXtptsO4O",
        "colab_type": "code",
        "outputId": "cf7c4116-e592-44c4-9167-cdbf3917762a",
        "colab": {
          "base_uri": "https://localhost:8080/",
          "height": 221
        }
      },
      "source": [
        "# assigning inputtrainingencoded to inputencodingtraining\n",
        "inputencodingtraining = inputtrainingencoded\n",
        "inputdecodingtraining = np.zeros_like(outputtrainingencoded)\n",
        "inputdecodingtraining[:, 1:] = outputtrainingencoded[:,:-1]\n",
        "# WORD_START to inputdecodingtraining\n",
        "inputdecodingtraining[:, 0] = WORD_START\n",
        "outputdecodingtraining = np.eye(dictionary_size)[outputtrainingencoded.astype('int')]\n",
        "# assigning inputvalidationencoded to inputencodingvalidation\n",
        "inputencodingvalidation = inputvalidationencoded\n",
        "inputdecodingvalidation = np.zeros_like(outputvalidationencoded)\n",
        "inputdecodingvalidation[:, 1:] = outputvalidationencoded[:,:-1]\n",
        "# assigning WORD_START to inputdecodingvalidation\n",
        "inputdecodingvalidation[:, 0] = WORD_START\n",
        "outputdecodingvalidation = np.eye(dictionary_size)[outputvalidationencoded.astype('int')]\n",
        "\n",
        "# assigning the batch_size=128, epochs=5 to mtrain model\n",
        "#history=mtrain.fit(x=[inputencodingtraining, inputdecodingtraining], y=[outputdecodingtraining],validation_data=([inputencodingvalidation, inputdecodingvalidation], [outputdecodingvalidation]),batch_size=128, epochs=2)\n",
        "history=mtrain.fit(x=[inputencodingtraining, inputdecodingtraining], y=[outputdecodingtraining],batch_size=64, epochs=5)\n"
      ],
      "execution_count": 15,
      "outputs": [
        {
          "output_type": "stream",
          "text": [
            "WARNING:tensorflow:From /usr/local/lib/python3.6/dist-packages/keras/backend/tensorflow_backend.py:1033: The name tf.assign_add is deprecated. Please use tf.compat.v1.assign_add instead.\n",
            "\n",
            "Epoch 1/5\n",
            "24000/24000 [==============================] - 321s 13ms/step - loss: 0.0031 - acc: 0.9995\n",
            "Epoch 2/5\n",
            "24000/24000 [==============================] - 312s 13ms/step - loss: 0.0027 - acc: 0.9995\n",
            "Epoch 3/5\n",
            "24000/24000 [==============================] - 311s 13ms/step - loss: 0.0025 - acc: 0.9995\n",
            "Epoch 4/5\n",
            "24000/24000 [==============================] - 314s 13ms/step - loss: 0.0024 - acc: 0.9995\n",
            "Epoch 5/5\n",
            "24000/24000 [==============================] - 314s 13ms/step - loss: 0.0024 - acc: 0.9995\n"
          ],
          "name": "stdout"
        }
      ]
    },
    {
      "cell_type": "code",
      "metadata": {
        "id": "AN6skHQCHjpm",
        "colab_type": "code",
        "outputId": "e1f41eed-555b-41b1-c38f-c6fadf905bb9",
        "colab": {
          "base_uri": "https://localhost:8080/",
          "height": 530
        }
      },
      "source": [
        "history_df = pd.DataFrame(history.history)\n",
        "#history_df[['loss', 'val_loss']].plot()\n",
        "#history_df[['acc', 'val_acc']].plot()\n",
        "history_df[['loss']].plot() #Like so.\n",
        "history_df[['acc']].plot()\n"
      ],
      "execution_count": 16,
      "outputs": [
        {
          "output_type": "execute_result",
          "data": {
            "text/plain": [
              "<matplotlib.axes._subplots.AxesSubplot at 0x7f230bda8eb8>"
            ]
          },
          "metadata": {
            "tags": []
          },
          "execution_count": 16
        },
        {
          "output_type": "display_data",
          "data": {
            "image/png": "[encoded data removed]",
            "text/plain": [
              "<Figure size 432x288 with 1 Axes>"
            ]
          },
          "metadata": {
            "tags": []
          }
        },
        {
          "output_type": "display_data",
          "data": {
            "image/png": "[encoded data removed]",
            "text/plain": [
              "<Figure size 432x288 with 1 Axes>"
            ]
          },
          "metadata": {
            "tags": []
          }
        }
      ]
    },
    {
      "cell_type": "code",
      "metadata": {
        "id": "IwwRE1KBteV-",
        "colab_type": "code",
        "outputId": "da72ec89-1f2d-462d-b914-6f4dce9275c2",
        "colab": {
          "base_uri": "https://localhost:8080/",
          "height": 615
        }
      },
      "source": [
        "# importing the load_model from keras.models\n",
        "from keras.models import load_model\n",
        "# It creates a HDF5 file\n",
        "mtrain.save('9_project2_TT.h5')\n",
        "# Deletes the model that currently exists\n",
        "del mtrain\n",
        "# loads the model\n",
        "mtrain = load_model('9_project2_TT.h5')\n",
        "mtrain.summary()\n"
      ],
      "execution_count": 17,
      "outputs": [
        {
          "output_type": "stream",
          "text": [
            "/usr/local/lib/python3.6/dist-packages/keras/engine/network.py:883: UserWarning: Layer lstm_2 was passed non-serializable keyword arguments: {'initial_state': [<tf.Tensor 'strided_slice:0' shape=(?, 512) dtype=float32>, <tf.Tensor 'strided_slice:0' shape=(?, 512) dtype=float32>]}. They will not be included in the serialized model (and thus will be missing at deserialization time).\n",
            "  '. They will not be included '\n"
          ],
          "name": "stderr"
        },
        {
          "output_type": "stream",
          "text": [
            "Model: \"model_1\"\n",
            "__________________________________________________________________________________________________\n",
            "Layer (type)                    Output Shape         Param #     Connected to                     \n",
            "==================================================================================================\n",
            "input_2 (InputLayer)            (None, 20)           0                                            \n",
            "__________________________________________________________________________________________________\n",
            "input_1 (InputLayer)            (None, 20)           0                                            \n",
            "__________________________________________________________________________________________________\n",
            "embedding_2 (Embedding)         (None, 20, 128)      251136      input_2[0][0]                    \n",
            "__________________________________________________________________________________________________\n",
            "embedding_1 (Embedding)         (None, 20, 128)      251136      input_1[0][0]                    \n",
            "__________________________________________________________________________________________________\n",
            "lstm_2 (LSTM)                   (None, 20, 512)      1312768     embedding_2[0][0]                \n",
            "__________________________________________________________________________________________________\n",
            "lstm_1 (LSTM)                   (None, 20, 512)      1312768     embedding_1[0][0]                \n",
            "__________________________________________________________________________________________________\n",
            "dot_1 (Dot)                     (None, 20, 20)       0           lstm_2[0][0]                     \n",
            "                                                                 lstm_1[0][0]                     \n",
            "__________________________________________________________________________________________________\n",
            "layerss (Activation)            (None, 20, 20)       0           dot_1[0][0]                      \n",
            "__________________________________________________________________________________________________\n",
            "concatenate_1 (Concatenate)     (None, 20, 532)      0           layerss[0][0]                    \n",
            "                                                                 lstm_2[0][0]                     \n",
            "__________________________________________________________________________________________________\n",
            "time_distributed_1 (TimeDistrib (None, 20, 512)      272896      concatenate_1[0][0]              \n",
            "__________________________________________________________________________________________________\n",
            "time_distributed_2 (TimeDistrib (None, 20, 1962)     1006506     time_distributed_1[0][0]         \n",
            "==================================================================================================\n",
            "Total params: 4,407,210\n",
            "Trainable params: 4,407,210\n",
            "Non-trainable params: 0\n",
            "__________________________________________________________________________________________________\n"
          ],
          "name": "stdout"
        }
      ]
    },
    {
      "cell_type": "code",
      "metadata": {
        "id": "HrMTeRD1Q8kj",
        "colab_type": "code",
        "outputId": "529786b7-51ed-4e4e-b259-082046550426",
        "colab": {
          "base_uri": "https://localhost:8080/",
          "height": 34
        }
      },
      "source": [
        "#input_validating_data= input_validating_data.reshape(input_validating_data.shape[0], input_validating_data.shape[1], 1)\n",
        "#output_validating_data = output_validating_data.reshape(output_validating_data.shape[0], output_validating_data.shape[1], 1)\n",
        "#import numpy as np\n",
        "x_train_np = np.array(inputencodingvalidation)\n",
        "y_train_np = np.array(output_validating_data)\n",
        "x_test = np.expand_dims(x_train_np, axis=2)\n",
        "acc = mtrain.evaluate(x=[inputencodingvalidation, inputdecodingvalidation],y= [outputdecodingvalidation], verbose=0)\n",
        "print(\"Accuracy\"+str(acc))"
      ],
      "execution_count": 18,
      "outputs": [
        {
          "output_type": "stream",
          "text": [
            "Accuracy[0.002499713831891616, 0.9995172135035197]\n"
          ],
          "name": "stdout"
        }
      ]
    },
    {
      "cell_type": "code",
      "metadata": {
        "id": "ywVZHSVnt5vp",
        "colab_type": "code",
        "outputId": "25bac623-9895-4823-eadd-28ee68b0796d",
        "colab": {
          "base_uri": "https://localhost:8080/",
          "height": 697
        }
      },
      "source": [
        "# method for predicting the raw input with the rawdata\n",
        "def predictingrawinput(rawdata):\n",
        "    # cleaning the rawdata\n",
        "    clean_textt = clean_text(rawdata)\n",
        "    # applying the tokenization on the cleaned text\n",
        "    inputtokenization = [nltk.word_tokenize(clean_textt)]\n",
        "    # The input sequence is reveersed\n",
        "    inputtokenization = [inputtokenization[0][::-1]] \n",
        "    # Data transfromation on encoded input\n",
        "    encodedinput = datatransformation(encoded_data, inputtokenization, 20)\n",
        "    decodedinput = np.zeros(shape=(len(encodedinput), OUTPUT_LENGTH))\n",
        "    # assigning the WORD_START to the decodedinput\n",
        "    decodedinput[:,0] = WORD_START\n",
        "    for i in range(1, OUTPUT_LENGTH):\n",
        "        olayer = mtrain.predict([encodedinput, decodedinput]).argmax(axis=2)\n",
        "        decodedinput[:,i] = olayer[:,i]\n",
        "    # returning the olayer\n",
        "    return olayer\n",
        "# method for decoding the text with the decode_data and vectorization\n",
        "def decodingtext(decoded_data, vectorization):\n",
        "    text = ''\n",
        "    # for in in vectorization\n",
        "    for i in vectorization:\n",
        "        # checking the if condition for i equal to zero\n",
        "        if i == 0:\n",
        "            break\n",
        "        text += ' '\n",
        "        text += decoded_data[i]\n",
        "    # returning the text\n",
        "    return text\n",
        "# for in in the range of 20    \n",
        "for i in range(20):\n",
        "    # assigning the value to the sequentialindex\n",
        "    sequentialindex = np.random.randint(1, len(short_qu))\n",
        "    # assigning the value to the olayer\n",
        "    olayer = predictingrawinput(short_qu[sequentialindex])\n",
        "    # printing the question :\n",
        "    print ('Questions Pls:', short_qu[sequentialindex])\n",
        "    # printing the answer :\n",
        "    print ('Your Answer:', decodingtext(decoded_data, olayer[0]))"
      ],
      "execution_count": 19,
      "outputs": [
        {
          "output_type": "stream",
          "text": [
            "Questions Pls: dongt you open your messages?\n",
            "Your Answer:  i am not <UNK> .\n",
            "Questions Pls: thanks for the invite.\n",
            "Your Answer:  i am not <UNK> .\n",
            "Questions Pls: colonel finck, are you saying someone told you not to dissect the neck?\n",
            "Your Answer:  i am not <UNK> .\n",
            "Questions Pls: stop it! stop it! it hurts!\n",
            "Your Answer:  i am not <UNK> .\n",
            "Questions Pls: wow. look at the mountains.\n",
            "Your Answer:  i am not <UNK> .\n",
            "Questions Pls: more... many more.\n",
            "Your Answer:  i am not <UNK> .\n",
            "Questions Pls: why know?\n",
            "Your Answer:  i am not <UNK> .\n",
            "Questions Pls: good morning, mr. bebe!\n",
            "Your Answer:  i am not <UNK> .\n",
            "Questions Pls: roll him over!\n",
            "Your Answer:  i am not <UNK> .\n",
            "Questions Pls: you look awful.\n",
            "Your Answer:  i am not <UNK> .\n",
            "Questions Pls: ten reasons. maybe fifteen. and also there's something in it for me.\n",
            "Your Answer:  i am not <UNK> .\n",
            "Questions Pls: you kidding? this is detroit. drink?\n",
            "Your Answer:  i am not <UNK> .\n",
            "Questions Pls: these are worth at least, i dongt know --\n",
            "Your Answer:  i am not <UNK> .\n",
            "Questions Pls: that is the corrected bearing to the magnetic pole?\n",
            "Your Answer:  i am not <UNK> .\n",
            "Questions Pls: always good advice.\n",
            "Your Answer:  i am not <UNK> .\n",
            "Questions Pls: let us get to the border!\n",
            "Your Answer:  i am not <UNK> .\n",
            "Questions Pls: about cholesterol...you know what i know, you would have the seafood.\n",
            "Your Answer:  i am not <UNK> .\n",
            "Questions Pls: far enough. maybe up to san francisco. or st. louis, someplace new. start over.\n",
            "Your Answer:  i am not <UNK> .\n",
            "Questions Pls: \"make\" him?\n",
            "Your Answer:  i am not <UNK> .\n",
            "Questions Pls: manray was under our nose the whole time.\n",
            "Your Answer:  i am not <UNK> .\n"
          ],
          "name": "stdout"
        }
      ]
    },
    {
      "cell_type": "code",
      "metadata": {
        "id": "WqZc50u1vr4z",
        "colab_type": "code",
        "colab": {
          "base_uri": "https://localhost:8080/",
          "height": 51
        },
        "outputId": "dc389040-e743-406b-e885-1e3fa73ab2ff"
      },
      "source": [
        "# assigning the input() to the rawdata\n",
        "rawdata = input()\n",
        "# assigning the rawdata to the olayer\n",
        "olayer = predictingrawinput(rawdata)\n",
        "# printing the decodingtext\n",
        "print (decodingtext(decoded_data, olayer[0]))"
      ],
      "execution_count": 20,
      "outputs": [
        {
          "output_type": "stream",
          "text": [
            "hi\n",
            " i am not <UNK> .\n"
          ],
          "name": "stdout"
        }
      ]
    }
  ]
}